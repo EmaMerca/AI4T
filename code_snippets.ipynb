{
  "nbformat": 4,
  "nbformat_minor": 0,
  "metadata": {
    "colab": {
      "name": "code snippets.ipynb",
      "provenance": [],
      "collapsed_sections": [],
      "authorship_tag": "ABX9TyM4+XHBHbqbEPN+aj+9PPhA",
      "include_colab_link": true
    },
    "kernelspec": {
      "name": "python3",
      "display_name": "Python 3"
    },
    "language_info": {
      "name": "python"
    }
  },
  "cells": [
    {
      "cell_type": "markdown",
      "metadata": {
        "id": "view-in-github",
        "colab_type": "text"
      },
      "source": [
        "<a href=\"https://colab.research.google.com/github/EmaMerca/AI4T/blob/main/code_snippets.ipynb\" target=\"_parent\"><img src=\"https://colab.research.google.com/assets/colab-badge.svg\" alt=\"Open In Colab\"/></a>"
      ]
    },
    {
      "cell_type": "markdown",
      "metadata": {
        "id": "rm2qJBsGP7hF"
      },
      "source": [
        "## Download data and install spark, setup environment"
      ]
    },
    {
      "cell_type": "code",
      "metadata": {
        "colab": {
          "base_uri": "https://localhost:8080/"
        },
        "id": "88AQ3N14BXJT",
        "outputId": "aece0c52-8e30-4725-a392-a60a56e0b672"
      },
      "source": [
        "! gdown --id 1IMvnKKwFfaW7dB_SyGk7HjHGijH4LfmK"
      ],
      "execution_count": 1,
      "outputs": [
        {
          "output_type": "stream",
          "text": [
            "Downloading...\n",
            "From: https://drive.google.com/uc?id=1IMvnKKwFfaW7dB_SyGk7HjHGijH4LfmK\n",
            "To: /content/snippets.csv\n",
            "1.79GB [00:10, 165MB/s]\n"
          ],
          "name": "stdout"
        }
      ]
    },
    {
      "cell_type": "code",
      "metadata": {
        "id": "NIxMaTzoPGBl"
      },
      "source": [
        "# innstall java\n",
        "!apt-get install openjdk-8-jdk-headless -qq > /dev/null\n",
        "\n",
        "# install spark (change the version number if needed)\n",
        "!wget -q https://archive.apache.org/dist/spark/spark-3.0.0/spark-3.0.0-bin-hadoop3.2.tgz\n",
        "\n",
        "# unzip the spark file to the current folder\n",
        "!tar xf spark-3.0.0-bin-hadoop3.2.tgz\n",
        "\n",
        "# set your spark folder to your system path environment. \n",
        "import os\n",
        "os.environ[\"JAVA_HOME\"] = \"/usr/lib/jvm/java-8-openjdk-amd64\"\n",
        "os.environ[\"SPARK_HOME\"] = \"/content/spark-3.0.0-bin-hadoop3.2\"\n",
        "\n",
        "\n",
        "# install findspark using pip\n",
        "!pip install -q findspark\n",
        "\n",
        "# install pyspark\n",
        "!pip install pyspark --q"
      ],
      "execution_count": 1,
      "outputs": []
    },
    {
      "cell_type": "code",
      "metadata": {
        "id": "EvJkFG23OtDy"
      },
      "source": [
        "import findspark\n",
        "findspark.init()\n",
        "from pyspark.sql import SparkSession\n",
        "spark = SparkSession.builder.master(\"local[*]\").getOrCreate()"
      ],
      "execution_count": 2,
      "outputs": []
    },
    {
      "cell_type": "code",
      "metadata": {
        "id": "7dz1Y49jGFxP"
      },
      "source": [
        "import pandas as pd\n",
        "import numpy as np\n",
        "import matplotlib.pyplot as plt\n",
        "import seaborn as sns\n",
        "%matplotlib inline\n",
        "\n",
        "import pyspark\n",
        "from pyspark.sql import *\n",
        "from pyspark.sql.types import *\n",
        "from pyspark.sql.functions import *\n",
        "from pyspark import SparkContext, SparkConf\n",
        "from pyspark.sql.types import StructType, StructField\n",
        "from pyspark.sql.types import IntegerType, StringType"
      ],
      "execution_count": 3,
      "outputs": []
    },
    {
      "cell_type": "markdown",
      "metadata": {
        "id": "bDSaDmtuRK6T"
      },
      "source": [
        "## section 1"
      ]
    },
    {
      "cell_type": "code",
      "metadata": {
        "colab": {
          "base_uri": "https://localhost:8080/"
        },
        "id": "lsbT0aViOSBw",
        "outputId": "af169ddf-af6b-4b1b-cee4-e8ea8de7fcb6"
      },
      "source": [
        "\n",
        "\n",
        "schema = StructType([\n",
        "    StructField(\"id\", IntegerType()),\n",
        "    StructField(\"snippet\", StringType()),\n",
        "    StructField(\"language\", StringType()),\n",
        "    StructField(\"repo_file_name\", StringType()),\n",
        "    StructField(\"github_repo_url\", StringType()), \n",
        "    StructField(\"license\", StringType()),\n",
        "    StructField(\"commit_hash\", StringType()),\n",
        "    StructField(\"starting_line_number\", IntegerType()),\n",
        "    StructField(\"chuck_size\", IntegerType())\n",
        "])\n",
        "\n",
        "df = spark.read.csv(\n",
        "    \"snippets.csv\", \n",
        "    header=True, \n",
        "    schema=schema,\n",
        "    sep=',',\n",
        "    quote='\"', \n",
        "    escape='\"'\n",
        ")\n",
        "\n",
        "df.show(50, truncate=False)"
      ],
      "execution_count": 30,
      "outputs": [
        {
          "output_type": "stream",
          "text": [
            "+----+----------------------------+------------------------------------------------------------------+-------------------+---------------+-------+-----------+--------------------+----------+\n",
            "|id  |snippet                     |language                                                          |repo_file_name     |github_repo_url|license|commit_hash|starting_line_number|chuck_size|\n",
            "+----+----------------------------+------------------------------------------------------------------+-------------------+---------------+-------+-----------+--------------------+----------+\n",
            "|0   |491                         |test/files/normalise.jpg.png                                      |null               |null           |null   |null       |null                |null      |\n",
            "|null|null                        |null                                                              |null               |null           |null   |null       |null                |null      |\n",
            "|null|null                        |null                                                              |null               |null           |null   |null       |null                |null      |\n",
            "|null|null                        |null                                                              |null               |null           |null   |null       |null                |null      |\n",
            "|null|null                        |null                                                              |null               |null           |null   |null       |null                |null      |\n",
            "|null|null                        |null                                                              |null               |null           |null   |null       |null                |null      |\n",
            "|null|null                        |null                                                              |null               |null           |null   |null       |null                |null      |\n",
            "|1   |512                         |a computer network, with no transfer of a copy, is not conveying. |null               |null           |null   |null       |null                |null      |\n",
            "|null|null                        |null                                                              |null               |null           |null   |null       |null                |null      |\n",
            "|null|null                        |null                                                              |null               |null           |null   |null       |null                |null      |\n",
            "|null| and (2)                    |null                                                              |null               |null           |null   |null       |null                |null      |\n",
            "|null|null                        |null                                                              |null               |null           |null   |null       |null                |null      |\n",
            "|null|null                        |null                                                              |null               |null           |null   |null       |null                |null      |\n",
            "|2   |584                         |the predecessor has it or can get it with reasonable efforts.     |null               |null           |null   |null       |null                |null      |\n",
            "|null|null                        |null                                                              |null               |null           |null   |null       |null                |null      |\n",
            "|null| you may                    |null                                                              |null               |null           |null   |null       |null                |null      |\n",
            "|null| royalty                    | or other charge for exercise of                                  |null               |null           |null   |null       |null                |null      |\n",
            "|null|null                        |null                                                              |null               |null           |null   |null       |null                |null      |\n",
            "|null|null                        |null                                                              |null               |null           |null   |null       |null                |null      |\n",
            "|3   |610                         |  THERE IS NO WARRANTY FOR THE PROGRAM, TO THE EXTENT PERMITTED BY|null               |null           |null   |null       |null                |null      |\n",
            "|null|null                        |null                                                              |null               |null           |null   |null       |null                |null      |\n",
            "|null|null                        |null                                                              |null               |null           |null   |null       |null                |null      |\n",
            "|null| EITHER EXPRESSED OR IMPLIED| INCLUDING                                                        | BUT NOT LIMITED TO|null           |null   |null       |null                |null      |\n",
            "|null|null                        |null                                                              |null               |null           |null   |null       |null                |null      |\n",
            "|null|null                        |null                                                              |null               |null           |null   |null       |null                |null      |\n",
            "|null|null                        |null                                                              |null               |null           |null   |null       |null                |null      |\n",
            "|4   |627                         |const nconf = require('nconf');                                   |null               |null           |null   |null       |null                |null      |\n",
            "|null|null                        |null                                                              |null               |null           |null   |null       |null                |null      |\n",
            "|null|null                        |null                                                              |null               |null           |null   |null       |null                |null      |\n",
            "|null|null                        |null                                                              |null               |null           |null   |null       |null                |null      |\n",
            "|null|null                        |null                                                              |null               |null           |null   |null       |null                |null      |\n",
            "|null|null                        |null                                                              |null               |null           |null   |null       |null                |null      |\n",
            "|5   |638                         |\t\t// create another group that starts with test for search/sort   |null               |null           |null   |null       |null                |null      |\n",
            "|null| description: 'Foobar!' }); |null                                                              |null               |null           |null   |null       |null                |null      |\n",
            "|null|null                        |null                                                              |null               |null           |null   |null       |null                |null      |\n",
            "|null|null                        |null                                                              |null               |null           |null   |null       |null                |null      |\n",
            "|null|null                        |null                                                              |null               |null           |null   |null       |null                |null      |\n",
            "|null|null                        |null                                                              |null               |null           |null   |null       |null                |null      |\n",
            "|6   |646                         |\"                                                                 |null               |null           |null   |null       |null                |null      |\n",
            "|null|null                        |null                                                              |null               |null           |null   |null       |null                |null      |\n",
            "|null|null                        |null                                                              |null               |null           |null   |null       |null                |null      |\n",
            "|null|null                        |null                                                              |null               |null           |null   |null       |null                |null      |\n",
            "|null|null                        |null                                                              |null               |null           |null   |null       |null                |null      |\n",
            "|null|null                        |null                                                              |null               |null           |null   |null       |null                |null      |\n",
            "|7   |673                         |\t\t\t\tassert.deepStrictEqual(isMembers, [true, false]);             |null               |null           |null   |null       |null                |null      |\n",
            "|null|null                        |null                                                              |null               |null           |null   |null       |null                |null      |\n",
            "|null|null                        |null                                                              |null               |null           |null   |null       |null                |null      |\n",
            "|null|null                        |null                                                              |null               |null           |null   |null       |null                |null      |\n",
            "|null|null                        |null                                                              |null               |null           |null   |null       |null                |null      |\n",
            "|null|null                        |null                                                              |null               |null           |null   |null       |null                |null      |\n",
            "+----+----------------------------+------------------------------------------------------------------+-------------------+---------------+-------+-----------+--------------------+----------+\n",
            "only showing top 50 rows\n",
            "\n"
          ],
          "name": "stdout"
        }
      ]
    },
    {
      "cell_type": "code",
      "metadata": {
        "colab": {
          "base_uri": "https://localhost:8080/"
        },
        "id": "SnZAOJNFTEw_",
        "outputId": "6f7bf8fb-836f-4cfa-ab73-461a17b756cd"
      },
      "source": [
        "df.printSchema()"
      ],
      "execution_count": 16,
      "outputs": [
        {
          "output_type": "stream",
          "text": [
            "root\n",
            " |-- id: integer (nullable = true)\n",
            " |-- snippet: string (nullable = true)\n",
            " |-- language: string (nullable = true)\n",
            " |-- repo_file_name: string (nullable = true)\n",
            " |-- github_repo_url: string (nullable = true)\n",
            " |-- license: string (nullable = true)\n",
            " |-- commit_hash: string (nullable = true)\n",
            " |-- starting_line_number: integer (nullable = true)\n",
            " |-- chuck_size: integer (nullable = true)\n",
            "\n"
          ],
          "name": "stdout"
        }
      ]
    },
    {
      "cell_type": "code",
      "metadata": {
        "id": "TbgOOKDYWZb5"
      },
      "source": [
        "dfp = pd.read_csv('snippets.csv')"
      ],
      "execution_count": 11,
      "outputs": []
    },
    {
      "cell_type": "code",
      "metadata": {
        "colab": {
          "base_uri": "https://localhost:8080/",
          "height": 35
        },
        "id": "DyDvx5a4WcUS",
        "outputId": "50e80c22-bf1f-40a6-9804-c635b1ed34bc"
      },
      "source": [
        "dfp.iloc[0].snippet"
      ],
      "execution_count": 24,
      "outputs": [
        {
          "output_type": "execute_result",
          "data": {
            "application/vnd.google.colaboratory.intrinsic+json": {
              "type": "string"
            },
            "text/plain": [
              "'test/files/normalise.jpg.png\\ntest/files/normalise-resized.jpg\\npackage-lock.json\\n/package.json\\n*.mongodb\\n'"
            ]
          },
          "metadata": {
            "tags": []
          },
          "execution_count": 24
        }
      ]
    }
  ]
}